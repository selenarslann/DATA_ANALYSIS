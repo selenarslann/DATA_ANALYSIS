{
 "cells": [
  {
   "cell_type": "markdown",
   "id": "5dbe6792",
   "metadata": {},
   "source": [
    "## WORD EMBEDDING :GENSIM"
   ]
  },
  {
   "cell_type": "markdown",
   "id": "c2bdfd64",
   "metadata": {},
   "source": [
    "Gensim is a Python library for topic modelling, document indexing and similarity retrieval with large corpora. Target audience is the natural language processing (NLP) and information retrieval (IR) community.\n",
    "\n"
   ]
  },
  {
   "cell_type": "code",
   "execution_count": 1,
   "id": "e5de1ebc",
   "metadata": {},
   "outputs": [],
   "source": [
    "import numpy as np"
   ]
  },
  {
   "cell_type": "code",
   "execution_count": 2,
   "id": "309d39b5",
   "metadata": {},
   "outputs": [],
   "source": [
    "%matplotlib inline\n",
    "import matplotlib.pyplot as plt\n",
    "plt.style.use('ggplot')"
   ]
  },
  {
   "cell_type": "code",
   "execution_count": 3,
   "id": "8050eee1",
   "metadata": {},
   "outputs": [],
   "source": [
    "from sklearn.decomposition import PCA"
   ]
  },
  {
   "cell_type": "code",
   "execution_count": 4,
   "id": "b3f75f7e",
   "metadata": {},
   "outputs": [
    {
     "name": "stdout",
     "output_type": "stream",
     "text": [
      "Requirement already satisfied: gensim in /Users/selen/opt/miniconda3/lib/python3.9/site-packages (4.3.2)\r\n",
      "Requirement already satisfied: scipy>=1.7.0 in /Users/selen/opt/miniconda3/lib/python3.9/site-packages (from gensim) (1.11.2)\r\n",
      "Requirement already satisfied: smart-open>=1.8.1 in /Users/selen/opt/miniconda3/lib/python3.9/site-packages (from gensim) (6.4.0)\r\n",
      "Requirement already satisfied: numpy>=1.18.5 in /Users/selen/opt/miniconda3/lib/python3.9/site-packages (from gensim) (1.23.5)\r\n"
     ]
    }
   ],
   "source": [
    "!pip install gensim"
   ]
  },
  {
   "cell_type": "code",
   "execution_count": 7,
   "id": "d1a22f59",
   "metadata": {},
   "outputs": [
    {
     "name": "stdout",
     "output_type": "stream",
     "text": [
      "Requirement already satisfied: gensim in /Users/selen/opt/miniconda3/lib/python3.9/site-packages (4.3.2)\n",
      "Requirement already satisfied: smart-open>=1.8.1 in /Users/selen/opt/miniconda3/lib/python3.9/site-packages (from gensim) (6.4.0)\n",
      "Requirement already satisfied: scipy>=1.7.0 in /Users/selen/opt/miniconda3/lib/python3.9/site-packages (from gensim) (1.11.2)\n",
      "Requirement already satisfied: numpy>=1.18.5 in /Users/selen/opt/miniconda3/lib/python3.9/site-packages (from gensim) (1.23.5)\n"
     ]
    }
   ],
   "source": [
    "!python -m pip install -U gensim\n",
    "\n",
    "import gensim.downloader as api\n",
    "from gensim.models import KeyedVectors\n"
   ]
  },
  {
   "cell_type": "code",
   "execution_count": 8,
   "id": "19e9b475",
   "metadata": {},
   "outputs": [
    {
     "name": "stdout",
     "output_type": "stream",
     "text": [
      "[==========----------------------------------------] 21.2% 27.1/128.1MB downloaded"
     ]
    },
    {
     "name": "stderr",
     "output_type": "stream",
     "text": [
      "IOPub message rate exceeded.\n",
      "The notebook server will temporarily stop sending output\n",
      "to the client in order to avoid crashing it.\n",
      "To change this limit, set the config variable\n",
      "`--NotebookApp.iopub_msg_rate_limit`.\n",
      "\n",
      "Current values:\n",
      "NotebookApp.iopub_msg_rate_limit=1000.0 (msgs/sec)\n",
      "NotebookApp.rate_limit_window=3.0 (secs)\n",
      "\n"
     ]
    },
    {
     "name": "stdout",
     "output_type": "stream",
     "text": [
      "[====================------------------------------] 41.8% 53.5/128.1MB downloaded"
     ]
    },
    {
     "name": "stderr",
     "output_type": "stream",
     "text": [
      "IOPub message rate exceeded.\n",
      "The notebook server will temporarily stop sending output\n",
      "to the client in order to avoid crashing it.\n",
      "To change this limit, set the config variable\n",
      "`--NotebookApp.iopub_msg_rate_limit`.\n",
      "\n",
      "Current values:\n",
      "NotebookApp.iopub_msg_rate_limit=1000.0 (msgs/sec)\n",
      "NotebookApp.rate_limit_window=3.0 (secs)\n",
      "\n"
     ]
    },
    {
     "name": "stdout",
     "output_type": "stream",
     "text": [
      "[=================================-----------------] 66.3% 84.9/128.1MB downloaded"
     ]
    },
    {
     "name": "stderr",
     "output_type": "stream",
     "text": [
      "IOPub message rate exceeded.\n",
      "The notebook server will temporarily stop sending output\n",
      "to the client in order to avoid crashing it.\n",
      "To change this limit, set the config variable\n",
      "`--NotebookApp.iopub_msg_rate_limit`.\n",
      "\n",
      "Current values:\n",
      "NotebookApp.iopub_msg_rate_limit=1000.0 (msgs/sec)\n",
      "NotebookApp.rate_limit_window=3.0 (secs)\n",
      "\n"
     ]
    },
    {
     "name": "stdout",
     "output_type": "stream",
     "text": [
      "[=============================================-----] 91.4% 117.1/128.1MB downloaded"
     ]
    },
    {
     "name": "stderr",
     "output_type": "stream",
     "text": [
      "IOPub message rate exceeded.\n",
      "The notebook server will temporarily stop sending output\n",
      "to the client in order to avoid crashing it.\n",
      "To change this limit, set the config variable\n",
      "`--NotebookApp.iopub_msg_rate_limit`.\n",
      "\n",
      "Current values:\n",
      "NotebookApp.iopub_msg_rate_limit=1000.0 (msgs/sec)\n",
      "NotebookApp.rate_limit_window=3.0 (secs)\n",
      "\n"
     ]
    },
    {
     "name": "stdout",
     "output_type": "stream",
     "text": [
      "[==================================================] 100.0% 128.1/128.1MB downloaded\n"
     ]
    }
   ],
   "source": [
    "model=api.load('glove-wiki-gigaword-100') #selected corpus"
   ]
  },
  {
   "cell_type": "code",
   "execution_count": 9,
   "id": "478565a1",
   "metadata": {},
   "outputs": [
    {
     "name": "stdout",
     "output_type": "stream",
     "text": [
      "<class 'gensim.models.keyedvectors.KeyedVectors'>\n"
     ]
    }
   ],
   "source": [
    "print(type(model))"
   ]
  },
  {
   "cell_type": "markdown",
   "id": "ebcd464f",
   "metadata": {},
   "source": [
    "The model is ready and we can see the word embeddings. Here are some examples:"
   ]
  },
  {
   "cell_type": "code",
   "execution_count": 10,
   "id": "894de7dc",
   "metadata": {},
   "outputs": [
    {
     "data": {
      "text/plain": [
       "array([-0.66146  ,  0.94335  , -0.72214  ,  0.17403  , -0.42524  ,\n",
       "        0.36303  ,  1.0135   , -0.14802  ,  0.25817  , -0.20326  ,\n",
       "       -0.64338  ,  0.16632  ,  0.61518  ,  1.397    , -0.094506 ,\n",
       "        0.0041843, -0.18976  , -0.55421  , -0.39371  , -0.22501  ,\n",
       "       -0.34643  ,  0.32076  ,  0.34395  , -0.7034   ,  0.23932  ,\n",
       "        0.69951  , -0.16461  , -0.31819  , -0.34034  , -0.44906  ,\n",
       "       -0.069667 ,  0.35348  ,  0.17498  , -0.95057  , -0.2209   ,\n",
       "        1.0647   ,  0.23231  ,  0.32569  ,  0.47662  , -1.1206   ,\n",
       "        0.28168  , -0.75172  , -0.54654  , -0.66337  ,  0.34804  ,\n",
       "       -0.69058  , -0.77092  , -0.40167  , -0.069351 , -0.049238 ,\n",
       "       -0.39351  ,  0.16735  , -0.14512  ,  1.0083   , -1.0608   ,\n",
       "       -0.87314  , -0.29339  ,  0.68278  ,  0.61634  , -0.088844 ,\n",
       "        0.88094  ,  0.099809 , -0.27161  , -0.58026  ,  0.50364  ,\n",
       "       -0.93814  ,  0.67576  , -0.43124  , -0.10517  , -1.2404   ,\n",
       "       -0.74353  ,  0.28637  ,  0.29012  ,  0.89377  ,  0.67406  ,\n",
       "        0.86422  , -0.30693  , -0.14718  ,  0.078353 ,  0.74013  ,\n",
       "        0.32658  , -0.052579 , -1.1665   ,  0.87079  , -0.69402  ,\n",
       "       -0.75977  , -0.37164  , -0.11887  ,  0.18551  ,  0.041883 ,\n",
       "        0.59352  ,  0.30519  , -0.54819  , -0.29424  , -1.4912   ,\n",
       "       -1.6548   ,  0.98982  ,  0.27325  ,  1.009    ,  0.94544  ],\n",
       "      dtype=float32)"
      ]
     },
     "execution_count": 10,
     "metadata": {},
     "output_type": "execute_result"
    }
   ],
   "source": [
    "model['bread']"
   ]
  },
  {
   "cell_type": "code",
   "execution_count": 12,
   "id": "8efb64d9",
   "metadata": {},
   "outputs": [
    {
     "data": {
      "text/plain": [
       "array([-0.25144  ,  0.52157  , -0.75452  ,  0.28039  , -0.31388  ,\n",
       "        0.274    ,  1.1971   , -0.10519  ,  0.82544  , -0.33398  ,\n",
       "       -0.21417  ,  0.22216  ,  0.14982  ,  0.47384  ,  0.41984  ,\n",
       "        0.69397  , -0.25999  , -0.44414  ,  0.58296  , -0.30851  ,\n",
       "       -0.076455 ,  0.33468  ,  0.28055  , -0.99012  ,  0.30349  ,\n",
       "        0.39128  ,  0.031526 , -0.095395 , -0.004745 , -0.81347  ,\n",
       "        0.27869  , -0.1812   ,  0.14632  , -0.42186  ,  0.13857  ,\n",
       "        1.139    ,  0.14925  , -0.051459 ,  0.37875  , -0.2613   ,\n",
       "        0.011081 , -0.28881  , -0.38662  , -0.3135   , -0.1954   ,\n",
       "        0.19248  , -0.52995  , -0.40674  , -0.25159  ,  0.06272  ,\n",
       "       -0.32724  ,  0.28374  , -0.2155   , -0.061832 , -0.50134  ,\n",
       "        0.0093959,  0.30715  ,  0.3873   , -0.74554  , -0.45947  ,\n",
       "        0.40032  , -0.1378   , -0.26968  , -0.3946   , -0.64876  ,\n",
       "       -0.47149  , -0.085536 ,  0.092795 , -0.034018 , -0.61906  ,\n",
       "        0.19123  ,  0.20563  ,  0.29056  , -0.010908 ,  0.15313  ,\n",
       "        0.33144  ,  0.33806  ,  0.061708 ,  0.20785  ,  0.65348  ,\n",
       "       -0.053222 ,  0.18589  ,  0.32647  , -0.11923  ,  0.42008  ,\n",
       "       -0.26931  ,  0.025489 ,  0.0036535,  0.1327   , -0.22763  ,\n",
       "        0.07564  ,  0.55773  ,  0.2978   ,  0.28144  ,  0.19775  ,\n",
       "       -0.23582  ,  0.65303  ,  0.089897 ,  0.35844  ,  0.14304  ],\n",
       "      dtype=float32)"
      ]
     },
     "execution_count": 12,
     "metadata": {},
     "output_type": "execute_result"
    }
   ],
   "source": [
    "model['croissant']"
   ]
  },
  {
   "cell_type": "markdown",
   "id": "c18b708f",
   "metadata": {},
   "source": [
    "The most similar and least similar words :"
   ]
  },
  {
   "cell_type": "code",
   "execution_count": 15,
   "id": "6b92eaef",
   "metadata": {},
   "outputs": [
    {
     "data": {
      "text/plain": [
       "[('flour', 0.7654520869255066),\n",
       " ('baked', 0.7607272863388062),\n",
       " ('cake', 0.7605516910552979),\n",
       " ('loaf', 0.7457114458084106),\n",
       " ('toast', 0.7397798895835876),\n",
       " ('cheese', 0.7374635338783264),\n",
       " ('potato', 0.7367483973503113),\n",
       " ('butter', 0.7279618978500366),\n",
       " ('potatoes', 0.7085272669792175),\n",
       " ('pasta', 0.7071877717971802)]"
      ]
     },
     "execution_count": 15,
     "metadata": {},
     "output_type": "execute_result"
    }
   ],
   "source": [
    "model.most_similar('bread')"
   ]
  },
  {
   "cell_type": "code",
   "execution_count": 16,
   "id": "4fb46e76",
   "metadata": {},
   "outputs": [
    {
     "data": {
      "text/plain": [
       "array([-1.0214   ,  0.64669  , -0.81953  , -0.09019  , -0.6946   ,\n",
       "       -0.0056647,  1.1741   ,  0.37611  ,  0.29266  ,  0.18367  ,\n",
       "        0.18059  , -0.87828  ,  0.29302  ,  1.1791   , -0.099289 ,\n",
       "       -0.38544  , -0.27431  , -0.15229  , -0.025112 , -0.83009  ,\n",
       "       -0.45715  ,  0.93499  ,  0.34476  , -0.5069   , -0.049767 ,\n",
       "        0.43931  , -0.10244  ,  0.15289  , -0.37199  ,  0.26704  ,\n",
       "       -0.51315  ,  0.0085009, -0.081211 , -0.60786  , -0.84611  ,\n",
       "        0.36856  ,  1.069    ,  0.71025  ,  0.15542  , -0.18672  ,\n",
       "       -0.29141  , -1.6818   , -0.43828  , -0.85003  ,  0.52986  ,\n",
       "       -0.18132  , -1.0381   , -0.43679  , -0.035185 , -0.54077  ,\n",
       "       -1.0855   ,  0.33895  ,  0.53353  ,  1.5009   , -0.6338   ,\n",
       "        0.0055149, -1.0831   ,  0.18951  ,  0.56261  , -0.67866  ,\n",
       "        0.56665  , -0.29713  ,  0.037538 , -0.036634 ,  0.76163  ,\n",
       "       -1.1375   ,  0.81612  ,  0.022784 , -0.17337  , -0.86987  ,\n",
       "       -0.88325  , -0.21943  , -0.042224 ,  1.222    ,  1.2104   ,\n",
       "        0.76836  , -0.16469  , -0.19377  ,  0.11019  ,  1.1396   ,\n",
       "       -0.061729 ,  0.060987 , -1.4124   ,  0.89314  ,  0.048459 ,\n",
       "       -0.52474  ,  0.46295  , -0.40734  , -0.11808  ,  0.39645  ,\n",
       "       -0.38125  ,  0.65244  , -1.0203   , -0.51468  , -1.0445   ,\n",
       "       -1.7681   ,  0.51192  , -0.36938  ,  0.4126   ,  0.85296  ],\n",
       "      dtype=float32)"
      ]
     },
     "execution_count": 16,
     "metadata": {},
     "output_type": "execute_result"
    }
   ],
   "source": [
    "model['flour']"
   ]
  },
  {
   "cell_type": "code",
   "execution_count": 17,
   "id": "24ba193b",
   "metadata": {},
   "outputs": [
    {
     "data": {
      "text/plain": [
       "[('socionics', 0.5758118629455566),\n",
       " ('francheville', 0.5602913498878479),\n",
       " ('bb94', 0.5592160820960999),\n",
       " ('westendorf', 0.5574142336845398),\n",
       " ('darban', 0.556814968585968),\n",
       " ('bhaktavatsalam', 0.5555770397186279),\n",
       " ('ink-jet', 0.553968071937561),\n",
       " ('malkawi', 0.5515477061271667),\n",
       " ('busybox', 0.5482652187347412),\n",
       " ('dhimitër', 0.5443779230117798)]"
      ]
     },
     "execution_count": 17,
     "metadata": {},
     "output_type": "execute_result"
    }
   ],
   "source": [
    "model.most_similar(negative='happy')"
   ]
  },
  {
   "cell_type": "code",
   "execution_count": 18,
   "id": "fffa057f",
   "metadata": {},
   "outputs": [
    {
     "data": {
      "text/plain": [
       "[(\"'m\", 0.8413287401199341),\n",
       " ('feel', 0.8132575750350952),\n",
       " (\"'re\", 0.804808497428894),\n",
       " ('i', 0.7938276529312134),\n",
       " (\"'ll\", 0.7916273474693298),\n",
       " ('really', 0.7903971076011658),\n",
       " ('glad', 0.7833361029624939),\n",
       " ('good', 0.7821646332740784),\n",
       " ('we', 0.7808917164802551),\n",
       " ('sure', 0.7788467407226562)]"
      ]
     },
     "execution_count": 18,
     "metadata": {},
     "output_type": "execute_result"
    }
   ],
   "source": [
    "model.most_similar('happy')"
   ]
  },
  {
   "cell_type": "markdown",
   "id": "c53a2135",
   "metadata": {},
   "source": [
    "For more complex similarity: "
   ]
  },
  {
   "cell_type": "code",
   "execution_count": 23,
   "id": "0c207eb2",
   "metadata": {},
   "outputs": [],
   "source": [
    "result=model.most_similar(positive=['woman','king'],negative='man')"
   ]
  },
  {
   "cell_type": "code",
   "execution_count": 24,
   "id": "d453eecc",
   "metadata": {},
   "outputs": [
    {
     "data": {
      "text/plain": [
       "('queen', 0.7698541283607483)"
      ]
     },
     "execution_count": 24,
     "metadata": {},
     "output_type": "execute_result"
    }
   ],
   "source": [
    "result[0]"
   ]
  },
  {
   "cell_type": "code",
   "execution_count": 26,
   "id": "e4d164d7",
   "metadata": {},
   "outputs": [],
   "source": [
    "def analogy(x1,x2,y1):\n",
    "    result=model.most_similar(positive=[y1,x2],negative=x1)\n",
    "    return result[0][0]"
   ]
  },
  {
   "cell_type": "code",
   "execution_count": 27,
   "id": "768bda2f",
   "metadata": {},
   "outputs": [
    {
     "data": {
      "text/plain": [
       "'queen'"
      ]
     },
     "execution_count": 27,
     "metadata": {},
     "output_type": "execute_result"
    }
   ],
   "source": [
    "analogy('man','king','woman')"
   ]
  },
  {
   "cell_type": "code",
   "execution_count": null,
   "id": "0690438a",
   "metadata": {},
   "outputs": [],
   "source": []
  }
 ],
 "metadata": {
  "kernelspec": {
   "display_name": "Python 3.9 (pytorch)",
   "language": "python",
   "name": "pytorch"
  },
  "language_info": {
   "codemirror_mode": {
    "name": "ipython",
    "version": 3
   },
   "file_extension": ".py",
   "mimetype": "text/x-python",
   "name": "python",
   "nbconvert_exporter": "python",
   "pygments_lexer": "ipython3",
   "version": "3.9.15"
  }
 },
 "nbformat": 4,
 "nbformat_minor": 5
}
