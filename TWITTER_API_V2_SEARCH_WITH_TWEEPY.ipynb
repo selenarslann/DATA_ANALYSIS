{
  "nbformat": 4,
  "nbformat_minor": 0,
  "metadata": {
    "colab": {
      "provenance": [],
      "collapsed_sections": [],
      "toc_visible": true
    },
    "kernelspec": {
      "name": "python3",
      "display_name": "Python 3"
    },
    "language_info": {
      "name": "python"
    }
  },
  "cells": [
    {
      "cell_type": "markdown",
      "source": [
        "# TWITTER API V2 SEARCH WITH TWEEPY\n",
        "\n",
        "\n",
        "\n"
      ],
      "metadata": {
        "id": "SHo8-mxCs1t1"
      }
    },
    {
      "cell_type": "markdown",
      "source": [
        "This documentation shows how to use Tweepy to get data for a specific hashtag with Twitter API V2.\n",
        "\n"
      ],
      "metadata": {
        "id": "89knorEWuMK-"
      }
    },
    {
      "cell_type": "markdown",
      "source": [
        "##PREP WORK\n"
      ],
      "metadata": {
        "id": "Jl_qYOY0u7qT"
      }
    },
    {
      "cell_type": "markdown",
      "source": [
        "In order to use this code, you need to have an account on [Twitter developer platform](https://developer.twitter.com/en). Twitter API V2 for Academic Research account is used for this project. Please check the information from [here](https://developer.twitter.com/en/products/twitter-api/academic-research).\n",
        "\n",
        "Do not forget to save the Bearer Token. It will be used later.\n",
        "\n"
      ],
      "metadata": {
        "id": "L5dL_bqgvBgu"
      }
    },
    {
      "cell_type": "markdown",
      "source": [
        "## TWEEPY"
      ],
      "metadata": {
        "id": "DlFroGzjs9Dn"
      }
    },
    {
      "cell_type": "markdown",
      "source": [
        "Tweepy is an open source Python package that gives you a very convenient way to access the Twitter API with Python.\n",
        "It is defined as 'An easy-to-use Python library for accessing the Twitter API' in the original website. You can chech the documentation for more detail from here: https://docs.tweepy.org/en/stable/\n",
        "\n",
        "Tweepy for Twitter v2 : https://docs.tweepy.org/en/stable/authentication.html#twitter-api-v2\n",
        "\n",
        "\n",
        "\n",
        "\n",
        "\n",
        "\n",
        "\n",
        "\n",
        "\n",
        "\n"
      ],
      "metadata": {
        "id": "IIgJNcKttJnS"
      }
    },
    {
      "cell_type": "markdown",
      "source": [
        "### WHY TWEEPY?"
      ],
      "metadata": {
        "id": "hmSqwEdMx_nv"
      }
    },
    {
      "cell_type": "markdown",
      "source": [
        "Tweepy is not a third party API application to get data from Twitter.It is a Python library used to access real Twitter API which requires to have developer account and keys. \n",
        "\n",
        "You can easily find the all the methods you need in Tweepy documentation. Zero experience is not a problem for Tweepy user. Easy to learn and apply. "
      ],
      "metadata": {
        "id": "KYQiTeLVyAeQ"
      }
    },
    {
      "cell_type": "markdown",
      "source": [
        "### TWEEPY SET-UP"
      ],
      "metadata": {
        "id": "sUbCB2WeyIdc"
      }
    },
    {
      "cell_type": "code",
      "source": [
        "import tweepy\n"
      ],
      "metadata": {
        "id": "6PWkwhYL4-Ni"
      },
      "execution_count": null,
      "outputs": []
    },
    {
      "cell_type": "markdown",
      "source": [
        "Alternatively you can use: \n",
        "\n",
        "\n",
        "```\n",
        "# !pip install tweepy\n",
        "\n",
        "```\n",
        "\n",
        "\n",
        "Be sure you download the latest version to avoid errors in next steps.\n",
        "```\n",
        "# !pip install --upgrade tweepy\n",
        "```\n",
        "\n",
        "Tweepy is set up and ready to use. Now we will connect to  the Twitter API by Tweepy. Bearer Token from developer account will be used in next step. \n",
        "\n",
        "\n"
      ],
      "metadata": {
        "id": "caUUeHwJ5FZ-"
      }
    },
    {
      "cell_type": "markdown",
      "source": [
        "## CONNECTING TWITTER API"
      ],
      "metadata": {
        "id": "rv8aL0pJ_sfx"
      }
    },
    {
      "cell_type": "code",
      "source": [
        "import datetime\n",
        "import pandas as pd\n"
      ],
      "metadata": {
        "id": "GG-np1EBICWu"
      },
      "execution_count": null,
      "outputs": []
    },
    {
      "cell_type": "markdown",
      "source": [
        "The Twitter API enables programmatic access to Twitter in unique and advanced ways. It is quite easy to use the twitter API to collect data."
      ],
      "metadata": {
        "id": "84Z_oeJb_2us"
      }
    },
    {
      "cell_type": "markdown",
      "source": [
        "Only thing you need is bearer token from your developer account. A Bearer Token is a byte array of unspecified format that you generate using a script like a curl command. You can also obtain a Bearer Token from the developer portal inside the keys and tokens section of your App's settings. "
      ],
      "metadata": {
        "id": "KnniOWgAAbML"
      }
    },
    {
      "cell_type": "markdown",
      "source": [
        "Put your Bearer Token instead of `'BEARER TOKEN'` in the following code.\n",
        "\n",
        "\n",
        "\n",
        "\n"
      ],
      "metadata": {
        "id": "Xo0sTBadB7Pw"
      }
    },
    {
      "cell_type": "code",
      "source": [
        "bearer_token='BEARER TOKEN'"
      ],
      "metadata": {
        "id": "UKo1x7suASR-"
      },
      "execution_count": null,
      "outputs": []
    },
    {
      "cell_type": "markdown",
      "source": [
        "tweepy.Client is Tweepy's interface for Twitter API v2. Details can be found in [here](https://docs.tweepy.org/en/stable/client.html).\n",
        "We will initialize the client with Bearer Token."
      ],
      "metadata": {
        "id": "45o0AvKIC0pl"
      }
    },
    {
      "cell_type": "code",
      "source": [
        "client = tweepy.Client(bearer_token, wait_on_rate_limit=True)"
      ],
      "metadata": {
        "id": "0CQ31WhoCZMl"
      },
      "execution_count": null,
      "outputs": []
    },
    {
      "cell_type": "markdown",
      "source": [
        "Connection process is done. I tried to explain everything as much as clear I can.At the end, all the steps until now is just couple lines of code. We are ready to collect data from Twitter. "
      ],
      "metadata": {
        "id": "bTkE5OJOD75-"
      }
    },
    {
      "cell_type": "markdown",
      "source": [
        "##COLLECT DATA FROM TWITTER"
      ],
      "metadata": {
        "id": "KZD5M6pgD6SP"
      }
    },
    {
      "cell_type": "markdown",
      "source": [
        "Before beginning we should know what we are looking for in Twitter. We will collect data based on the criterias in the following list: \n",
        "\n",
        "*   Topic (keyword)\n",
        "*   Time period\n",
        "*Language\n",
        "*   Type of tweet (retweet,original tweet)\n",
        "*Required informations\n",
        "\n",
        "I want to collect english original tweets about postpartum from 2021. We will decide later which information will be kept.\n",
        "\n",
        "I want to have a homogeneous dataset which means same amount of data will be collected for each month. Let's make it much more homogeneous: Same amount of data will be collected for each day in whole year 2021. \n",
        "\n",
        "\n",
        "So, 50 tweets * 365 days = 18250. We are expecting to see 18250 rows in our dataset.\n",
        "\n",
        "We will collect 50 tweets from each day during 2021.\n"
      ],
      "metadata": {
        "id": "u_m171ZPEnml"
      }
    },
    {
      "cell_type": "markdown",
      "source": [
        "The time format of request process is %Y-%m-%dTH:M:SZ.\n",
        "First we should create a list of days in 2021."
      ],
      "metadata": {
        "id": "4gUlRAluHsBf"
      }
    },
    {
      "cell_type": "code",
      "source": [
        "date=[]\n",
        "\n",
        "#start date: 2021-january 1 st\n",
        "start_date = datetime.date(2021, 1, 1)\n",
        " \n",
        "#end date: 2022-january 1 st\n",
        "#end date (01.01.2022) will not be included in data collecting part.\n",
        "#last day will be 31.12.2021\n",
        "end_date = datetime.date(2022, 1, 1)\n",
        " \n",
        "# delta time\n",
        "delta = datetime.timedelta(days=1)\n",
        "# iterate over range of dates\n",
        "while (start_date <= end_date):\n",
        "    d1 = datetime.datetime.strptime(str(start_date),\"%Y-%m-%d\")\n",
        "    new_format = \"%Y-%m-%dT00:00:00Z\"\n",
        "    date.append(d1.strftime(new_format))\n",
        "    start_date += delta"
      ],
      "metadata": {
        "id": "Gzane9UJGv5E"
      },
      "execution_count": null,
      "outputs": []
    },
    {
      "cell_type": "markdown",
      "source": [
        "\n",
        "Basically, code structures is:\n",
        "\n",
        "```\n",
        "for response in tweepy.Paginator(client.search_all_tweets, \n",
        "                                 query = \n",
        "                                 tweet_fields = \n",
        "                                 expansions = \n",
        "                                 start_time = \n",
        "                                 end_time = \n",
        "                                 max_results=\n",
        "                                  limit=1)\n",
        "```\n",
        "\n",
        "query is used for keywords. \n",
        "\n",
        "tweet_fields and expansions are used to select required columns.\n",
        "\n",
        "start_time and end_time represent time period.\n",
        "\n",
        "max_results is maximum capacity of collecting data in each request.\n",
        "\n",
        "limit is number of request in each loop.\n",
        "\n",
        "Please check the [Twitter documentation page](https://developer.twitter.com/en/docs/twitter-api/data-dictionary/introduction) for more details. \n",
        "\n",
        "\n",
        "Note: This process will take some time.\n",
        "\n",
        "\n"
      ],
      "metadata": {
        "id": "oi_negXCJ2aO"
      }
    },
    {
      "cell_type": "code",
      "source": [
        "df_tweet = []\n",
        "#iterates the days\n",
        "for i in range(len(date)-1): #first day of 2022 is not included \n",
        "#request process\n",
        "    for response in tweepy.Paginator(client.search_all_tweets, \n",
        "                                 query = '(postpartum OR #postpartum) lang:en -is:retweet', # tweets inclued 'postpartum' or #postpartum \n",
        "                                 tweet_fields = ['entities,id,text,author_id,lang,created_at,public_metrics,referenced_tweets'],\n",
        "                                 expansions = ['author_id,in_reply_to_user_id,referenced_tweets.id'],\n",
        "                                 start_time = date[i],\n",
        "                                 end_time = date[i+1], # (end_date)-(start_date) = 1 day\n",
        "                                 max_results=50, limit=1): # 50 tweets in each request. we will have totaly 1 request for each day.\n",
        "                                \n",
        "      time.sleep(1)\n",
        "      df_tweet.append(response)"
      ],
      "metadata": {
        "id": "RUj6OB9yIPg5"
      },
      "execution_count": null,
      "outputs": []
    },
    {
      "cell_type": "markdown",
      "source": [
        "**'(postpartum OR #postpartum) lang:en -is:retweet'**: \n",
        "\n",
        "\n",
        "*   (postpartum OR #postpartum): tweets inclued the word 'postpartum' or the hashtag '#postpartum'\n",
        "*lang:en :  the tweet languge is english\n",
        "\n",
        "* -is:retweet: The retweets are not included\n",
        "\n",
        "So, we are searching for english original tweets which includes 'postpartum' or '#postpartum'.\n",
        "\n"
      ],
      "metadata": {
        "id": "m_FeLL15IQGq"
      }
    },
    {
      "cell_type": "markdown",
      "source": [
        "Finally we have the data. We should save it with column names which make sense in csv format. \n",
        "Following code maps the information we collect and store everything in a csv file."
      ],
      "metadata": {
        "id": "TehvqdmKNAFa"
      }
    },
    {
      "cell_type": "code",
      "source": [
        "result = []\n",
        "user_dict = {}\n",
        "#all information is in df_tweet. This is a loop to reach them.\n",
        "for response in df_tweet:    \n",
        "    for tweet in response.data:\n",
        "        result.append({'author_id': tweet['author_id'], \n",
        "                       'tweet_id': tweet['id'],\n",
        "                       'text': tweet.text,\n",
        "                       'created_at': tweet.created_at,\n",
        "                        'lang' : tweet['lang'],\n",
        "                        'retweets': tweet.public_metrics['retweet_count'],\n",
        "                       'replies': tweet.public_metrics['reply_count'],\n",
        "                       'likes': tweet.public_metrics['like_count'],\n",
        "                       'quote_count': tweet.public_metrics['quote_count']\n",
        "                      })\n",
        "\n",
        "df = pd.DataFrame(result)\n",
        "#change 'YOUR_PATH' with the directory.\n",
        "df.to_csv('YOUR_PATH/twitter_data.csv')"
      ],
      "metadata": {
        "id": "XYWnTR5XNYvw"
      },
      "execution_count": null,
      "outputs": []
    },
    {
      "cell_type": "markdown",
      "source": [
        "As I mentioned before, the size of the dataset was expected as 18250. You can check the distribution of the tweets with following code. "
      ],
      "metadata": {
        "id": "ZnKfnvk2ODXq"
      }
    },
    {
      "cell_type": "code",
      "source": [
        "df_month=[]\n",
        "#dates of collected tweets are stored in a different dataset and the information of month is extracted.\n",
        "for i in range(len(df)):\n",
        "  x=str(df.created_at[i]).split('-')\n",
        "  df_month.append(x[1])\n",
        "\n",
        "df_month=pd.DataFrame(df_month)\n",
        "df_month.columns = ['month']\n"
      ],
      "metadata": {
        "id": "TI89pDBvOAtY"
      },
      "execution_count": null,
      "outputs": []
    },
    {
      "cell_type": "code",
      "source": [
        "#frequency of each month\n",
        "df_month['month'].value_counts()"
      ],
      "metadata": {
        "id": "y2mDXMQsOc4t"
      },
      "execution_count": null,
      "outputs": []
    },
    {
      "cell_type": "code",
      "source": [
        "#bar chart\n",
        "df_month['month'].value_counts().plot(kind='bar');\n"
      ],
      "metadata": {
        "id": "zMZnSHfaOdcf"
      },
      "execution_count": null,
      "outputs": []
    },
    {
      "cell_type": "markdown",
      "source": [
        "As seen in the bar chart and table fo frequency of each month, we have a homogeneous dataset. The dataset gives information about whole year 2021. "
      ],
      "metadata": {
        "id": "Cnu2koXcPBiJ"
      }
    }
  ]
}